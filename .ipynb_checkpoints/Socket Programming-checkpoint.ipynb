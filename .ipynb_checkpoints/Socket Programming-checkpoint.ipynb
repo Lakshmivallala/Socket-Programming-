{
 "cells": [
  {
   "cell_type": "markdown",
   "metadata": {},
   "source": [
    "# HTTP: Hypertext transfer protocol\n",
    "> Mainly designed for establishing a communcation between web browsers and servers. \n",
    "This protocol is used to acesss data on the WWW\n",
    "\n",
    ">WWW/Web: Collection of websites/ web pages which are stored in web servers and connected through local computers through internet\n",
    "\n",
    ">Socket programming: connects 2 nodes on a network and helps them communicate with each other. \n",
    "\n",
    "Basically, send and receive data using a socket like a end point for communication. This end point sits at an IP and a port."
   ]
  },
  {
   "cell_type": "markdown",
   "metadata": {},
   "source": [
    "Nodes are clients and servers: The server runs programs that share resources with and distribute work among clients. Client access a service made available by a server. Servers listen to the client for requests. Example of clients: web browser(Microsoft Edge, Internet Explorer, Google Chrome, Mozilla Firefox, and Apple Safari)\n",
    "\n",
    "Ex: Google server, client -> requests a web page, server sends it over\n",
    "\n",
    "A server has an IP address. If a machine provides you multiple services, then each service has a port number.\n",
    "\n",
    "Jupyter uses port number 8888\n",
    "\n",
    "A socket is a combination of an ip address and a port number."
   ]
  },
  {
   "cell_type": "markdown",
   "metadata": {},
   "source": [
    "This program is playing the role of the web browser or the client"
   ]
  },
  {
   "cell_type": "markdown",
   "metadata": {},
   "source": [
    "> \\r (Carriage Return) → moves the cursor to the beginning of the line. It does so without advancing to the next line\n",
    "\n",
    ">\\n (Line Feed) → moves the cursor down to the next line without returning to the beginning of the line —\n",
    "\n",
    ">\\r\\n (End Of Line) → a combination of \\r and \\n (\\r\\n signifies an EOL (end of line))/blank line\n",
    "\n",
    ">\\r\\n is the standard line-termination for text formats on the Internet\n",
    "\n",
    "Newlines are handled in a different way in different Operating Systems \n",
    "\n",
    "Linux/Unix: \\n\n",
    "\n",
    "Windows: \\r\\n\n",
    "\n",
    "\\r\\n\t\\n\n",
    "Compatible in Windows-based systems.\tCompatible in Unix/Linux based systems.\n",
    "\\r\\n. (Used by most text based internet protocols such as SMTP, HTTP)\n",
    "\n",
    ">\\v - vertical tab, moves the cursor to the same position of the next line"
   ]
  },
  {
   "cell_type": "code",
   "execution_count": 36,
   "metadata": {},
   "outputs": [],
   "source": [
    "#VERTICAL TAB\n",
    "# print(\"hello\\vworld\")\n",
    "# Output:\n",
    "\n",
    "# hello\n",
    "#      world"
   ]
  },
  {
   "cell_type": "code",
   "execution_count": 33,
   "metadata": {},
   "outputs": [
    {
     "name": "stdout",
     "output_type": "stream",
     "text": [
      "ABC\u000b",
      "DEF\u000b",
      "GHI\u000b",
      "\n"
     ]
    }
   ],
   "source": [
    "print(\"ABC\\vDEF\\vGHI\\v\")"
   ]
  },
  {
   "cell_type": "code",
   "execution_count": 48,
   "metadata": {
    "scrolled": true
   },
   "outputs": [
    {
     "name": "stdout",
     "output_type": "stream",
     "text": [
      "A\tb\n",
      "4\n",
      "This sentenc\r",
      "e is to ex\n",
      "periment a f\r\n",
      "ew escape sequences\n",
      "\tEKALAVYA\r",
      " SYSTEM\n",
      "\t  OF \r",
      "MASTERING\n",
      "\n",
      "AB\r\n",
      "CB\n",
      "AB\n",
      "CV\n"
     ]
    }
   ],
   "source": [
    "# print(\"A\\rBCCCCCC\\nCC\\r\\nCCC\")\n",
    "print(\"A\\tb\")\n",
    "print(len(\"AB\\tC\"))\n",
    "print(\"This sentenc\\re is to ex\\nperiment a f\\r\\new escape sequences\")\n",
    "print(\"\\tEKALAVYA\\r SYSTEM\\n\\t  OF \\rMASTERING\\n\")\n",
    "print(\"AB\\r\\nCB\")\n",
    "print(\"AB\\nCV\")"
   ]
  },
  {
   "cell_type": "markdown",
   "metadata": {},
   "source": [
    "## Making low-level network connection or a simple web browser with sockets"
   ]
  },
  {
   "cell_type": "code",
   "execution_count": 39,
   "metadata": {},
   "outputs": [],
   "source": [
    "import socket #importing module socket\n",
    "#its a standard library no need install it "
   ]
  },
  {
   "cell_type": "code",
   "execution_count": 53,
   "metadata": {},
   "outputs": [],
   "source": [
    "# import socket\n",
    "# s = socket.socket (socket_family, socket_type, protocol = 0)\n",
    "#socket_family: AF_UNIX or AF_INET\n",
    "#socket_type: SOCK_STREAM or SOCK_DGRAM."
   ]
  },
  {
   "cell_type": "code",
   "execution_count": null,
   "metadata": {},
   "outputs": [],
   "source": [
    "#socket.connect(address) \n",
    "#connects the client to the server"
   ]
  },
  {
   "cell_type": "code",
   "execution_count": null,
   "metadata": {},
   "outputs": [],
   "source": [
    "#socket.send(bytes)\n",
    "#used to send data to the socket which is connected to the remote machine"
   ]
  },
  {
   "cell_type": "code",
   "execution_count": null,
   "metadata": {},
   "outputs": [],
   "source": [
    "#socket.recv(bufsize)\n",
    "#receives the TCP message from socket (the client will receive the message from server)\n",
    "# bufsize/buffer size: max data this method can receive at any one time\n"
   ]
  },
  {
   "cell_type": "code",
   "execution_count": 86,
   "metadata": {},
   "outputs": [
    {
     "name": "stdout",
     "output_type": "stream",
     "text": [
      "7\n"
     ]
    }
   ],
   "source": [
    "s=\"ABC\\nD\\tE\"\n",
    "print(len(s))"
   ]
  },
  {
   "cell_type": "code",
   "execution_count": 184,
   "metadata": {},
   "outputs": [
    {
     "data": {
      "text/plain": [
       "47"
      ]
     },
     "execution_count": 184,
     "metadata": {},
     "output_type": "execute_result"
    }
   ],
   "source": [
    "#mysock -> socket object\n",
    "#create the socket (using socket.socket())\n",
    "mysock=socket.socket(socket.AF_INET,socket.SOCK_STREAM) #constants->socket(typeofnetwork(IPv4,IPv6?,tcp/udp) or (address family, socket type) for  IPv4 and IPv6 ║ UDP -> SOCK_DGRAM│ TCP->SOCK_STREAM|\n",
    "#internet protocol version 4 and internet protocol version 6\n",
    "#IP:  set of rules governing the format of data sent via the internet or local network\n",
    "#TCP/IP are IP examples\n",
    "#TCP (SOCK_STREAM) is a connection-based protocol: The connection is established and the two parties have a conversation until the connection is terminated by one of the parties or by a network error.\n",
    "#AF_INET - ipv4\n",
    "#Internet Protocol version 4 (IPv4): AF_INET\n",
    "#Bluetooth: AF_BTH\n",
    "#sequenced, reliable, two-way, connection-based, byte-streams: SOCK_STREAM (what an IP person would call TCP)\n",
    "#connectionless, unreliable, datagrams: SOCK_DGRAM (what an IP person would call UDP)\n",
    "#AF: Address Family and PF: Protocol Family\n",
    "#SOCK_STREAM - streaming socket\n",
    "#TCP protocol is a streaming protocol, that is, it's connection-oriented and the data flows as a stream of packets that make a continuous flow\n",
    "#On the other hand, UDP is connection-less, datagram-oriented transport protocol, so it uses the `sock.DGRAM` type.\n",
    "mysock.connect(('data.pr4e.org',80)) #connection to port 80 on the server www.py4e.com\n",
    "# 80: port number for HTTP protocol \n",
    "#http://google.com:80\n",
    "#the HTTP protocol says we must send the GET command followed by a blank line\n",
    "#1.0 and 1.1 are versions of HTTP (HTTP 1.1 has faster delivery of Web pages than original HTTP (1.0) and also reduces Web traffic)\n",
    "cmd='GET http://data.pr4e.org/romeo.txt HTTP/1.0\\r\\n\\r\\n'.encode() #GET request: request a document from a web server\n",
    "#encode() method encodes the string, using the specified encoding. If there is no encoding specified, UTF-8 will be used.\n",
    "#encode() and decode() methods convert strings into bytes objects and back again\n",
    "mysock.send(cmd)"
   ]
  },
  {
   "cell_type": "code",
   "execution_count": 185,
   "metadata": {
    "scrolled": false
   },
   "outputs": [
    {
     "name": "stdout",
     "output_type": "stream",
     "text": [
      "536\n",
      "HTTP/1.1 200 OK\r\n",
      "Date: Sun, 12 Dec 2021 13:06:55 GMT\r\n",
      "Server: Apache/2.4.18 (Ubuntu)\r\n",
      "Last-Modified: Sat, 13 May 2017 11:22:22 GMT\r\n",
      "ETag: \"a7-54f6609245537\"\r\n",
      "Accept-Ranges: bytes\r\n",
      "Content-Length: 167\r\n",
      "Cache-Control: max-age=0, no-cache, no-store, must-revalidate\r\n",
      "Pragma: no-cache\r\n",
      "Expires: Wed, 11 Jan 1984 05:00:00 GMT\r\n",
      "Connection: close\r\n",
      "Content-Type: text/plain\r\n",
      "\r\n",
      "But soft what light through yonder window breaks\n",
      "It is the east and Juliet is the sun\n",
      "Arise fair sun and kill the envious moon\n",
      "Who is already sick and pale with grief\n",
      "0\n"
     ]
    }
   ],
   "source": [
    "while True:\n",
    "    data=mysock.recv(1024) #receiving/ read incoming data\n",
    "    print(len(data))\n",
    "    if len(data)<1: #0 chars i.e you reach the end of the stream\n",
    "        break\n",
    "    print(data.decode(),end='') #decode cuz its coming from else where, has carriage returns \\ns and all\n",
    "mysock.close()\n",
    "#HTTP 200 OK success status response code indicates that the request has succeeded"
   ]
  },
  {
   "cell_type": "markdown",
   "metadata": {},
   "source": [
    "This is meta data or the header: Important details about the files \n",
    "\n",
    "512\n",
    "HTTP/1.1 200 OK\n",
    "Date: Sun, 12 Dec 2021 09:21:19 GMT\n",
    "Server: Apache/2.4.18 (Ubuntu)\n",
    "Last-Modified: Sat, 13 May 2017 11:22:22 GMT\n",
    "ETag: \"a7-54f6609245537\"\n",
    "Accept-Ranges: bytes\n",
    "Content-Length: 167\n",
    "Cache-Control: max-age=0, no-cache, no-store, must-revalidate\n",
    "Pragma: no-cache\n",
    "Expires: Wed, 11 Jan 1984 05:00:00 GMT\n",
    "Connection: close\n",
    "Content-Type: text/plain\n",
    "\n",
    "We can also observe in the output a gap (blank line) between the meta data and the actua data"
   ]
  },
  {
   "cell_type": "code",
   "execution_count": 1,
   "metadata": {},
   "outputs": [],
   "source": [
    "#INFINITE LOOP\n",
    "# import socket\n",
    "# from urllib.parse import urlsplit\n",
    "\n",
    "# url = urlsplit('http://www.py4inf.com/code/romeo.txt')\n",
    "# host = url.hostname\n",
    "# path = url.path\n",
    "\n",
    "# request = f'GET {path} HTTP/1.1\\nHost: {host}\\n\\n'.encode('utf-8')\n",
    "# s = socket.socket(socket.AF_INET, socket.SOCK_STREAM)\n",
    "# s.connect((host, 80))\n",
    "# s.send(request)\n",
    "# result = s.recv(512)\n",
    "# while (len(result) > 0):\n",
    "#     print(result.decode('utf-8'))"
   ]
  },
  {
   "cell_type": "markdown",
   "metadata": {},
   "source": [
    "## We were manually sending and receiving data over HTTP using the socket library. A simpler way is to use the urllib library.\n",
    "\n",
    "Using urllib, you can treat a web page much like a file, urllib handles all of the HTTP\n",
    "protocol and header details\n",
    "\n",
    " once we have opened the web page, we can read it like a local file"
   ]
  },
  {
   "cell_type": "code",
   "execution_count": 188,
   "metadata": {},
   "outputs": [
    {
     "name": "stdout",
     "output_type": "stream",
     "text": [
      "But soft what light through yonder window breaks\n",
      "\n",
      "It is the east and Juliet is the sun\n",
      "\n",
      "Arise fair sun and kill the envious moon\n",
      "\n",
      "Who is already sick and pale with grief\n",
      "\n"
     ]
    }
   ],
   "source": [
    "import urllib.request\n",
    "fhand = urllib.request.urlopen('http://data.pr4e.org/romeo.txt')\n",
    "for line in fhand:\n",
    "    print(line.decode())"
   ]
  }
 ],
 "metadata": {
  "kernelspec": {
   "display_name": "Python 3",
   "language": "python",
   "name": "python3"
  },
  "language_info": {
   "codemirror_mode": {
    "name": "ipython",
    "version": 3
   },
   "file_extension": ".py",
   "mimetype": "text/x-python",
   "name": "python",
   "nbconvert_exporter": "python",
   "pygments_lexer": "ipython3",
   "version": "3.8.10"
  }
 },
 "nbformat": 4,
 "nbformat_minor": 4
}
